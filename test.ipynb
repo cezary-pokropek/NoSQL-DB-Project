{
 "cells": [
  {
   "cell_type": "code",
   "execution_count": 13,
   "metadata": {},
   "outputs": [],
   "source": [
    "import pymongo\n",
    "from bson import ObjectId"
   ]
  },
  {
   "cell_type": "code",
   "execution_count": 16,
   "metadata": {},
   "outputs": [],
   "source": [
    "conn = pymongo.MongoClient('mongodb://127.0.0.1:27017/')"
   ]
  },
  {
   "cell_type": "code",
   "execution_count": 25,
   "metadata": {},
   "outputs": [],
   "source": [
    "def serializeDict(a) -> dict:\n",
    "    try:\n",
    "        result = {**{i:str(a[i]) for i in a if i=='_id'},**{i:a[i] for i in a if i!='_id'}}\n",
    "    except TypeError: \n",
    "        result = []\n",
    "    return result"
   ]
  },
  {
   "cell_type": "code",
   "execution_count": 30,
   "metadata": {},
   "outputs": [
    {
     "name": "stdout",
     "output_type": "stream",
     "text": [
      "{'_id': '62ab41648cb4962b2a76d730', 'book_id': 1, 'title': 'Harry Potter and the Half-Blood Prince (Harry Potter  #6)', 'authors': ['J.K. Rowling', 'Mary GrandPré'], 'average_rating': 4.57, 'isbn': '0439785960', 'isbn13': '9780439785969', 'language_code': 'eng', 'num_pages': 652, 'ratings_count': 2095690, 'text_reviews_count': 27591, 'publication_date': datetime.datetime(2006, 9, 15, 22, 0), 'publisher': 'Scholastic Inc.'}\n"
     ]
    }
   ],
   "source": [
    "print(serializeDict(conn.bgd.books.find_one({\"_id\":ObjectId(\"62ab41648cb4962b2a76d730\")})))"
   ]
  },
  {
   "cell_type": "code",
   "execution_count": 31,
   "metadata": {},
   "outputs": [
    {
     "name": "stdout",
     "output_type": "stream",
     "text": [
      "{'_id': '62ab41668cb4962b2a7702a8', 'author': 'Bill Buford', 'book_ids': [33464], 'publishers': ['Granta Books'], 'books_average_rating': 3.94, 'books_num_pages_avg': 320.0, 'books_ratings_count_sum': 2, 'books_text_reviews_count_sum': 1}\n"
     ]
    }
   ],
   "source": [
    "print(serializeDict(conn.bgd.authors.find_one({\"_id\":ObjectId(\"62ab41668cb4962b2a7702a8\")})))"
   ]
  }
 ],
 "metadata": {
  "interpreter": {
   "hash": "338f1cb378b2ccba15e620f07bb7e4095bab1f5c708887f8c60c0f783fa9d68b"
  },
  "kernelspec": {
   "display_name": "Python 3.9.0 64-bit",
   "language": "python",
   "name": "python3"
  },
  "language_info": {
   "codemirror_mode": {
    "name": "ipython",
    "version": 3
   },
   "file_extension": ".py",
   "mimetype": "text/x-python",
   "name": "python",
   "nbconvert_exporter": "python",
   "pygments_lexer": "ipython3",
   "version": "3.9.0"
  },
  "orig_nbformat": 4
 },
 "nbformat": 4,
 "nbformat_minor": 2
}
